{
 "cells": [
  {
   "cell_type": "markdown",
   "metadata": {},
   "source": [
    "# Grupo 6\n",
    "\n",
    "####  1º Periodo \n",
    "\n",
    "#### Materias de apresentação\n",
    "\n",
    "- Sistemas Digitais\n",
    "- Principio de Sistemas de Comunicação\n",
    "\n",
    "\n"
   ]
  },
  {
   "cell_type": "markdown",
   "metadata": {},
   "source": [
    "### Dados do Projeto do Curso\n",
    "\n",
    "#### Sistemas Digitais\n",
    "##### Carga Horária:  AT (34) AP(34) APS(04) TA(72)\n",
    "##### Pré-requisito :  Circuitos Elétricos 1\n",
    "##### Ementa :  \n",
    "Máquinas de estados. Análise de circuitos digitais sequenciais. Síntese de circuitos   digitais   sequenciais.   Famílias   lógicas.   Conversores   analógico/digital. Digital/analógico. Dispositivos de memórias. Dispositivos programáveis. Introdução a microprocessadores.\n",
    "\n",
    "---\n",
    "#### Princípios de Sistemas de Comunicação\n",
    "##### Carga Horária:  AT (34) AP(34) APS(04) TA(72) \n",
    "##### Pré-requisitos:  Sinais e Sistemas, Eletrônica Analógica A\n",
    "##### Ementa:\n",
    "  Introdução  à  teoria  da  informação;  transmissão  de  sinais  através  de \n",
    "sistemas  lineares;  modulação  linear;  modulação  AM-SSB;  modulação  AM-VSS; modulação  exponencial;  modulação  PM;  multiplexação;  multiplex  por  divisão  em frequência;  multiplex  por  divisão  no  tempo;  introdução  aos  sistemas  de  modulação por pulsos;  sistemas  PAM, PWM,  PPM, PCM;  transmissão  digital;  modulação  ASK, \n",
    "FSK e PSK; introdução à teoria da informação."
   ]
  },
  {
   "cell_type": "markdown",
   "metadata": {},
   "source": [
    "## Aplicação "
   ]
  },
  {
   "cell_type": "code",
   "execution_count": null,
   "metadata": {},
   "outputs": [],
   "source": []
  }
 ],
 "metadata": {
  "kernelspec": {
   "display_name": "Python 2",
   "language": "python",
   "name": "python2"
  },
  "language_info": {
   "codemirror_mode": {
    "name": "ipython",
    "version": 2
   },
   "file_extension": ".py",
   "mimetype": "text/x-python",
   "name": "python",
   "nbconvert_exporter": "python",
   "pygments_lexer": "ipython2",
   "version": "2.7.15rc1"
  }
 },
 "nbformat": 4,
 "nbformat_minor": 2
}
